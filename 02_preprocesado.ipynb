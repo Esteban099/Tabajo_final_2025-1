{
  "cells": [
    {
      "cell_type": "code",
      "execution_count": 2,
      "id": "7bd2e84e",
      "metadata": {
        "id": "7bd2e84e"
      },
      "outputs": [],
      "source": [
        "import pandas as pd\n",
        "from sklearn.impute import SimpleImputer\n",
        "from sklearn.preprocessing import StandardScaler, OneHotEncoder\n",
        "from sklearn.compose import ColumnTransformer\n",
        "from sklearn.pipeline import Pipeline\n",
        "from sklearn.model_selection import train_test_split\n",
        "\n",
        "df = pd.read_csv('bets.csv')\n",
        "\n",
        "df = df.drop_duplicates()\n",
        "\n",
        "imputer = SimpleImputer(strategy='most_frequent')\n",
        "df['sport_category'] = imputer.fit_transform(df[['sport_category']]).ravel()\n",
        "\n",
        "categorical_features = ['bet_type', 'sport', 'sport_category', 'estimated_risk']\n",
        "numerical_features = ['odds', 'stake', 'gain', 'GGR', 'net_gain', 'profitability']\n",
        "\n",
        "categorical_transformer = Pipeline([('imputer', SimpleImputer(strategy='most_frequent')),('onehot', OneHotEncoder(handle_unknown='ignore'))])\n",
        "\n",
        "numerical_transformer = Pipeline([('imputer', SimpleImputer(strategy='mean')),('scaler', StandardScaler())])\n",
        "\n",
        "preprocessor = ColumnTransformer([('num', numerical_transformer, numerical_features),('cat', categorical_transformer, categorical_features)])\n",
        "\n",
        "X = df.drop(columns=['is_win'])\n",
        "y = df['is_win']\n",
        "\n",
        "X_train, X_test, y_train, y_test = train_test_split(X, y, test_size=0.2, random_state=42)\n",
        "\n",
        "X_train_processed = preprocessor.fit_transform(X_train)\n",
        "X_test_processed = preprocessor.transform(X_test)\n",
        "\n",
        "pd.DataFrame(X_train_processed).to_csv('X_train_preprocessed.csv', index=False)\n",
        "pd.DataFrame(X_test_processed).to_csv('X_test_preprocessed.csv', index=False)\n",
        "y_train.to_csv('y_train.csv', index=False)\n",
        "y_test.to_csv('y_test.csv', index=False)\n"
      ]
    }
  ],
  "metadata": {
    "colab": {
      "provenance": []
    },
    "language_info": {
      "name": "python"
    },
    "kernelspec": {
      "name": "python3",
      "display_name": "Python 3"
    }
  },
  "nbformat": 4,
  "nbformat_minor": 5
}